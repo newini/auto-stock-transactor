{
 "cells": [
  {
   "cell_type": "markdown",
   "id": "64ea3217-3caa-404e-99f4-72e99d97e71e",
   "metadata": {},
   "source": [
    "# Market price monitor \n",
    "## 0. Imports"
   ]
  },
  {
   "cell_type": "code",
   "execution_count": 40,
   "id": "5882933f-3237-4af2-bb68-5de163d60d91",
   "metadata": {},
   "outputs": [],
   "source": [
    "import urllib.request\n",
    "import json, os\n",
    "import pandas as pd\n",
    "pd.set_option('display.max_columns', 0)\n",
    "import pprint\n",
    "pp = pprint.PrettyPrinter(indent=4)\n",
    "\n",
    "FILENAME = 'push_data.csv'\n",
    "\n",
    "BASEURL = 'http://localhost:18080/kabusapi/'\n",
    "BASEURL_TEST = 'http://localhost:18081/kabusapi/'"
   ]
  },
  {
   "cell_type": "markdown",
   "id": "0691884d-c842-461a-98d8-434a602a309e",
   "metadata": {},
   "source": [
    "## 1. Get token"
   ]
  },
  {
   "cell_type": "code",
   "execution_count": 1,
   "id": "984d3700-a7ef-4798-87f7-2302ebe4221d",
   "metadata": {},
   "outputs": [
    {
     "name": "stdin",
     "output_type": "stream",
     "text": [
      " ········\n"
     ]
    }
   ],
   "source": [
    "from getpass import getpass\n",
    "password = getpass()"
   ]
  },
  {
   "cell_type": "code",
   "execution_count": 4,
   "id": "faf80234-8cb8-48c2-b78f-6701391eda90",
   "metadata": {},
   "outputs": [
    {
     "name": "stdout",
     "output_type": "stream",
     "text": [
      "200 OK\n"
     ]
    }
   ],
   "source": [
    "json_data = json.dumps({'APIPassword': password}).encode('utf8')\n",
    "req = urllib.request.Request(\n",
    "    BASEURL+'token', \n",
    "    json_data, \n",
    "    method='POST'\n",
    ")\n",
    "req.add_header('Content-Type', 'application/json')\n",
    "\n",
    "res = urllib.request.urlopen(req)\n",
    "print(res.status, res.reason)\n",
    "\n",
    "content = json.loads(res.read())\n",
    "token = content['Token']"
   ]
  },
  {
   "cell_type": "markdown",
   "id": "f30a018a-ad55-4326-b9e5-39964bafa43e",
   "metadata": {},
   "source": [
    "## 2. Register brand"
   ]
  },
  {
   "cell_type": "code",
   "execution_count": 7,
   "id": "20b0be53-f919-4e5c-aff0-5908de9667a4",
   "metadata": {},
   "outputs": [
    {
     "name": "stdout",
     "output_type": "stream",
     "text": [
      "200 OK\n",
      "{'RegistList': [{'Exchange': 1, 'Symbol': '4689'}]}\n"
     ]
    }
   ],
   "source": [
    "obj = { 'Symbols':\n",
    "        [\n",
    "            {'Symbol': '4689', 'Exchange': 1},\n",
    "        ] }\n",
    "json_data = json.dumps(obj).encode('utf8')\n",
    "\n",
    "url = 'http://localhost:18080/kabusapi/register'\n",
    "req = urllib.request.Request(url, json_data, method='PUT')\n",
    "req.add_header('Content-Type', 'application/json')\n",
    "req.add_header('X-API-KEY', token)\n",
    "\n",
    "\n",
    "res = urllib.request.urlopen(req)\n",
    "print(res.status, res.reason)\n",
    "#for header in res.getheaders():\n",
    "#    print(header)\n",
    "\n",
    "content = json.loads(res.read())\n",
    "pp.pprint(content)"
   ]
  },
  {
   "cell_type": "markdown",
   "id": "dfec371c-2078-4cd4-ab0a-bc97bba83e28",
   "metadata": {},
   "source": [
    "## 3. Get PUSH\n",
    "\n",
    "about PUSH: https://kabucom.github.io/kabusapi/ptal/push.html"
   ]
  },
  {
   "cell_type": "code",
   "execution_count": 28,
   "id": "a6887f73-8266-4095-80e4-54a6069102f5",
   "metadata": {},
   "outputs": [],
   "source": [
    "def convertToPlain(content):\n",
    "    content_plain = content.copy()\n",
    "    for board_type in ['Buy', 'Sell']:\n",
    "        for i in range(1, 11):\n",
    "            key = board_type + str(i)\n",
    "            board = content_plain.pop(key, None)\n",
    "            if i == 1:\n",
    "                for s in ['Sign', 'Time']:\n",
    "                    content_plain[key+'_'+s] = board[s]\n",
    "            for s in ['Price', 'Qty']:\n",
    "                content_plain[key+'_'+s] = board[s]\n",
    "    return content_plain"
   ]
  },
  {
   "cell_type": "code",
   "execution_count": null,
   "id": "33ec30de-e724-438a-bf6f-7ea430045584",
   "metadata": {},
   "outputs": [
    {
     "name": "stdout",
     "output_type": "stream",
     "text": [
      "--- CONNECTED --- \n",
      "2021-09-17 12:04:58.586779 , --- RECV MSG. ---, --- RECV MSG. ---, --- RECV MSG. ---, --- RECV MSG. ---, --- RECV MSG. ---, --- RECV MSG. ---, --- RECV MSG. ---, --- RECV MSG. ---, --- RECV MSG. ---, --- RECV MSG. ---, --- RECV MSG. ---, --- RECV MSG. ---, --- RECV MSG. ---, --- RECV MSG. ---, --- RECV MSG. ---, --- RECV MSG. ---, --- RECV MSG. ---, --- RECV MSG. ---, --- RECV MSG. ---, --- RECV MSG. ---, --- RECV MSG. ---, --- RECV MSG. ---, --- RECV MSG. ---, --- RECV MSG. ---, --- RECV MSG. ---\r"
     ]
    }
   ],
   "source": [
    "import json, sys\n",
    "import websocket\n",
    "import _thread\n",
    "\n",
    "from datetime import datetime\n",
    "\n",
    "#data = pd.DataFrame()\n",
    "\n",
    "def on_message(ws, message):\n",
    "    print(datetime.now(), ', --- RECV MSG. ---', end='\\r')\n",
    "    #print(message)\n",
    "    # String --> dict\n",
    "    content = json.loads(message)\n",
    "\n",
    "    # Convert to plain\n",
    "    content_plain = convertToPlain(content)\n",
    "    \n",
    "    #pp.pprint(content_plain)\n",
    "            \n",
    "    # dict --> dataframe\n",
    "    df = pd.DataFrame([content_plain])\n",
    "    \n",
    "    if not os.path.isfile(FILENAME):\n",
    "        df.to_csv(FILENAME)\n",
    "    else:\n",
    "        df.to_csv(FILENAME, mode='a', header=False)\n",
    "    \n",
    "    #pd.concat([data, df], axis=1)\n",
    "\n",
    "def on_error(ws, error):\n",
    "    print('--- ERROR --- ')\n",
    "    print(error)\n",
    "\n",
    "def on_close(ws):\n",
    "    print('--- DISCONNECTED --- ')\n",
    "\n",
    "def on_open(ws):\n",
    "    print('--- CONNECTED --- ')\n",
    "    def run(*args):\n",
    "        while(True):\n",
    "            line = sys.stdin.readline()\n",
    "            if line != '':\n",
    "                print('closing...')\n",
    "                ws.close()\n",
    "    #_thread.start_new_thread(run, ())\n",
    "\n",
    "url = 'ws://localhost:18080/kabusapi/websocket'\n",
    "# websocket.enableTrace(True)\n",
    "ws = websocket.WebSocketApp(\n",
    "    url,\n",
    "    on_message = on_message,\n",
    "    on_error = on_error,\n",
    "    on_close = on_close\n",
    ")\n",
    "ws.on_open = on_open\n",
    "ws.run_forever()"
   ]
  },
  {
   "cell_type": "code",
   "execution_count": null,
   "id": "b6a2744c-125d-45f2-aeee-47b3184207fb",
   "metadata": {},
   "outputs": [],
   "source": []
  }
 ],
 "metadata": {
  "kernelspec": {
   "display_name": "Python 3 (ipykernel)",
   "language": "python",
   "name": "python3"
  },
  "language_info": {
   "codemirror_mode": {
    "name": "ipython",
    "version": 3
   },
   "file_extension": ".py",
   "mimetype": "text/x-python",
   "name": "python",
   "nbconvert_exporter": "python",
   "pygments_lexer": "ipython3",
   "version": "3.9.7"
  }
 },
 "nbformat": 4,
 "nbformat_minor": 5
}
