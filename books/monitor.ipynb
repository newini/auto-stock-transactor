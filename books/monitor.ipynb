{
 "cells": [
  {
   "cell_type": "markdown",
   "id": "64ea3217-3caa-404e-99f4-72e99d97e71e",
   "metadata": {},
   "source": [
    "# Market price monitor \n",
    "## 0. Imports"
   ]
  },
  {
   "cell_type": "code",
   "execution_count": 1,
   "id": "5882933f-3237-4af2-bb68-5de163d60d91",
   "metadata": {},
   "outputs": [],
   "source": [
    "%matplotlib widget\n",
    "import urllib.request\n",
    "import json, os, sys\n",
    "import mplfinance as mpf\n",
    "import pandas as pd\n",
    "pd.set_option('display.max_columns', 0)\n",
    "import pprint\n",
    "pp = pprint.PrettyPrinter(indent=4)\n",
    "\n",
    "#sys.path.append('..')\n",
    "#from mylib.helper import test2\n",
    "\n",
    "BASEURL = 'http://localhost:18080/kabusapi/'\n",
    "BASEURL_TEST = 'http://localhost:18081/kabusapi/'"
   ]
  },
  {
   "cell_type": "markdown",
   "id": "0691884d-c842-461a-98d8-434a602a309e",
   "metadata": {},
   "source": [
    "## 1. Get token"
   ]
  },
  {
   "cell_type": "code",
   "execution_count": 1,
   "id": "984d3700-a7ef-4798-87f7-2302ebe4221d",
   "metadata": {},
   "outputs": [
    {
     "name": "stdin",
     "output_type": "stream",
     "text": [
      " ········\n"
     ]
    }
   ],
   "source": [
    "from getpass import getpass\n",
    "password = getpass()"
   ]
  },
  {
   "cell_type": "code",
   "execution_count": 4,
   "id": "faf80234-8cb8-48c2-b78f-6701391eda90",
   "metadata": {},
   "outputs": [
    {
     "name": "stdout",
     "output_type": "stream",
     "text": [
      "200 OK\n"
     ]
    }
   ],
   "source": [
    "json_data = json.dumps({'APIPassword': password}).encode('utf8')\n",
    "req = urllib.request.Request(\n",
    "    BASEURL+'token', \n",
    "    json_data, \n",
    "    method='POST'\n",
    ")\n",
    "req.add_header('Content-Type', 'application/json')\n",
    "\n",
    "res = urllib.request.urlopen(req)\n",
    "print(res.status, res.reason)\n",
    "\n",
    "content = json.loads(res.read())\n",
    "token = content['Token']"
   ]
  },
  {
   "cell_type": "markdown",
   "id": "f30a018a-ad55-4326-b9e5-39964bafa43e",
   "metadata": {},
   "source": [
    "## 2. Register brand"
   ]
  },
  {
   "cell_type": "code",
   "execution_count": 7,
   "id": "20b0be53-f919-4e5c-aff0-5908de9667a4",
   "metadata": {},
   "outputs": [
    {
     "name": "stdout",
     "output_type": "stream",
     "text": [
      "200 OK\n",
      "{'RegistList': [{'Exchange': 1, 'Symbol': '4689'}]}\n"
     ]
    }
   ],
   "source": [
    "obj = { 'Symbols':\n",
    "        [\n",
    "            {'Symbol': '4689', 'Exchange': 1},\n",
    "        ] }\n",
    "json_data = json.dumps(obj).encode('utf8')\n",
    "\n",
    "url = 'http://localhost:18080/kabusapi/register'\n",
    "req = urllib.request.Request(url, json_data, method='PUT')\n",
    "req.add_header('Content-Type', 'application/json')\n",
    "req.add_header('X-API-KEY', token)\n",
    "\n",
    "\n",
    "res = urllib.request.urlopen(req)\n",
    "print(res.status, res.reason)\n",
    "#for header in res.getheaders():\n",
    "#    print(header)\n",
    "\n",
    "content = json.loads(res.read())\n",
    "pp.pprint(content)"
   ]
  },
  {
   "cell_type": "markdown",
   "id": "dfec371c-2078-4cd4-ab0a-bc97bba83e28",
   "metadata": {},
   "source": [
    "## 3. Get PUSH\n",
    "\n",
    "about PUSH: https://kabucom.github.io/kabusapi/ptal/push.html"
   ]
  },
  {
   "cell_type": "code",
   "execution_count": 7,
   "id": "a6887f73-8266-4095-80e4-54a6069102f5",
   "metadata": {},
   "outputs": [],
   "source": [
    "def convertToPlain(dict_raw):\n",
    "    dict_plain = dict_raw.copy()\n",
    "    for board_type in ['Buy', 'Sell']:\n",
    "        for i in range(1, 11):\n",
    "            key = board_type + str(i)\n",
    "            board = dict_plain.pop(key, None)\n",
    "            if i == 1:\n",
    "                for s in ['Sign', 'Time']:\n",
    "                    dict_plain[key+'_'+s] = board[s]\n",
    "            for s in ['Price', 'Qty']:\n",
    "                dict_plain[key+'_'+s] = board[s]\n",
    "    return dict_plain\n",
    "\n",
    "def to_csv(df, filename):\n",
    "    if not os.path.isfile(filename):\n",
    "        df.to_csv(filename)\n",
    "    else:\n",
    "        df.to_csv(filename, mode='a', header=False)\n",
    "\n",
    "# freq = 1s, 1min, 5min, 1h, ...\n",
    "def groupByTime(df, col, freq=None):\n",
    "    df[col+'Time'] = pd.to_datetime(df[col+'Time']) \n",
    "    df_sel = df.loc[:, [col+'Time', col]]\n",
    "    if freq:\n",
    "        df_gb = df_sel.groupby(pd.Grouper(key=col+'Time', freq=freq))\n",
    "    else:\n",
    "        df_gb = df_sel.groupby(col+'Time')\n",
    "    return df_gb\n",
    "\n",
    "def CreateStockData(df, freq=None):\n",
    "    df_gb = groupByTime(df, 'CurrentPrice', freq=freq)\n",
    "    df_vol = groupByTime(df, 'TradingVolume', freq=freq).max() \n",
    "    df_vol = df_vol.diff()\n",
    "    df_stock = pd.concat([df_gb.first(), df_gb.max(), df_gb.min(), df_gb.last(), df_vol], axis=1)\n",
    "    df_stock = df_stock.set_axis(['Open', 'High', 'Low', 'Close', 'Volume'], axis='columns')\n",
    "    return df_stock\n",
    "\n",
    "def mpfplot(data, **kwargs):\n",
    "    style = mpf.make_mpf_style(base_mpf_style='nightclouds', rc={\"font.family\":'MS Gothic'})\n",
    "    return mpf.plot(data, figsize=(12, 6), style=style, returnfig=True, **kwargs)\n",
    "\n",
    "def mpfplotLive(data, **kwargs):\n",
    "    style = mpf.make_mpf_style(base_mpf_style='nightclouds', rc={\"font.family\":'MS Gothic'})\n",
    "    return mpf.plot(data, style=style, **kwargs)\n",
    "\n",
    "df_raw = pd.DataFrame()\n",
    "\n",
    "def livePlotFirst(df):\n",
    "    df_raw = pd.concat([df_raw, df])\n",
    "    df_stock = CreateStockData(df_raw, '1s')\n",
    "    return mpfplot(df_stock, type='candle')\n",
    "\n",
    "def livePlot(df, ax):\n",
    "    current_price_time = pd.to_datetime(df['CurrentPriceTime'][0])\n",
    "    previous_price_time = pd.to_datetime(df_raw['CurrentPriceTime'][0])\n",
    "    df_raw = pd.concat([df_raw, df])\n",
    "    if previous_price_time < current_price_time:\n",
    "        df_stock = CreateStockData(df_raw, '1s')\n",
    "        mpfplotLive(df_stock, type='candle', ax=ax[0])"
   ]
  },
  {
   "cell_type": "code",
   "execution_count": null,
   "id": "33ec30de-e724-438a-bf6f-7ea430045584",
   "metadata": {},
   "outputs": [
    {
     "name": "stdout",
     "output_type": "stream",
     "text": [
      "--- CONNECTED --- \n",
      "2021-09-17 12:04:58.586779 , --- RECV MSG. ---, --- RECV MSG. ---, --- RECV MSG. ---, --- RECV MSG. ---, --- RECV MSG. ---, --- RECV MSG. ---, --- RECV MSG. ---, --- RECV MSG. ---, --- RECV MSG. ---, --- RECV MSG. ---, --- RECV MSG. ---, --- RECV MSG. ---, --- RECV MSG. ---, --- RECV MSG. ---, --- RECV MSG. ---, --- RECV MSG. ---, --- RECV MSG. ---, --- RECV MSG. ---, --- RECV MSG. ---, --- RECV MSG. ---, --- RECV MSG. ---, --- RECV MSG. ---, --- RECV MSG. ---, --- RECV MSG. ---, --- RECV MSG. ---\r"
     ]
    }
   ],
   "source": [
    "import json, sys, time\n",
    "import websocket\n",
    "from datetime import datetime\n",
    "\n",
    "FILENAME_RAW = time.strftime(\"%Y%m%d\") + '_push_raw.csv'\n",
    "FILENAME_STOCK = time.strftime(\"%Y%m%d\") + '_push_stock.csv'\n",
    "\n",
    "is_first_data = True\n",
    "\n",
    "def on_message(ws, message):\n",
    "    print(datetime.now(), ', --- RECV MSG. ---', end='\\r')\n",
    "    #print(message) \n",
    "    # String --> dict\n",
    "    dict_raw = json.loads(message)\n",
    "\n",
    "    # Convert to plain\n",
    "    dict_plain = convertToPlain(dict_raw)\n",
    "\n",
    "    # dict --> dataframe\n",
    "    df_tick = pd.DataFrame([dict_plain])\n",
    "    # save raw data\n",
    "    to_csv(df_tick, FILENAME_RAW)\n",
    "    \n",
    "    if is_first_data:\n",
    "        fig, ax = livePlotFirst(df_tick)\n",
    "        is_first_data = False\n",
    "    else:\n",
    "        livePlot(df_tick, ax)\n",
    "        fig.canvas.draw()\n",
    "\n",
    "def on_error(ws, error):\n",
    "    print('--- ERROR --- ')\n",
    "    print(error)\n",
    "\n",
    "def on_close(ws):\n",
    "    print('--- DISCONNECTED --- ')\n",
    "\n",
    "def on_open(ws):\n",
    "    print('--- CONNECTED --- ')\n",
    "\n",
    "url = 'ws://localhost:18080/kabusapi/websocket'\n",
    "# websocket.enableTrace(True)\n",
    "ws = websocket.WebSocketApp(\n",
    "    url,\n",
    "    on_message = on_message,\n",
    "    on_error = on_error,\n",
    "    on_close = on_close\n",
    ")\n",
    "ws.on_open = on_open\n",
    "ws.run_forever()"
   ]
  },
  {
   "cell_type": "code",
   "execution_count": null,
   "id": "b6a2744c-125d-45f2-aeee-47b3184207fb",
   "metadata": {},
   "outputs": [],
   "source": []
  }
 ],
 "metadata": {
  "kernelspec": {
   "display_name": "Python 3 (ipykernel)",
   "language": "python",
   "name": "python3"
  },
  "language_info": {
   "codemirror_mode": {
    "name": "ipython",
    "version": 3
   },
   "file_extension": ".py",
   "mimetype": "text/x-python",
   "name": "python",
   "nbconvert_exporter": "python",
   "pygments_lexer": "ipython3",
   "version": "3.9.7"
  }
 },
 "nbformat": 4,
 "nbformat_minor": 5
}
