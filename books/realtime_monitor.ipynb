{
 "cells": [
  {
   "cell_type": "markdown",
   "id": "ccb31879-5747-4519-9f43-f5d988ad7803",
   "metadata": {},
   "source": [
    "# Realtime monitor\n",
    "## 0. Imports"
   ]
  },
  {
   "cell_type": "code",
   "execution_count": 10,
   "id": "339399bb-b28e-4432-afea-9ebfa7b429a5",
   "metadata": {},
   "outputs": [],
   "source": [
    "%matplotlib widget\n",
    "import sqlite3, time, urllib.request\n",
    "from datetime import datetime\n",
    "import mplfinance as mpf\n",
    "import pandas as pd\n",
    "pd.set_option('display.max_columns', 0)\n",
    "\n",
    "BASEURL = 'http://localhost:18080/kabusapi/'\n",
    "BASEURL_TEST = 'http://localhost:18081/kabusapi/'\n",
    "\n",
    "DB_PATH = 'D://data/kabustation_stock.db'"
   ]
  },
  {
   "cell_type": "markdown",
   "id": "b2470ac4-5b6d-4093-9dfe-4511da4b5200",
   "metadata": {},
   "source": [
    "### functions"
   ]
  },
  {
   "cell_type": "code",
   "execution_count": 44,
   "id": "6d331640-354a-4063-9b68-6cd7eca7a0ef",
   "metadata": {},
   "outputs": [],
   "source": [
    "# freq = 1s, 1min, 5min, 1h, ...\n",
    "def groupByTime(df, col, freq='1s'):\n",
    "    df[col+'Time'] = pd.to_datetime(df[col+'Time'])\n",
    "    df_sel = df.loc[:, [col+'Time', col]]\n",
    "    df_gb = df_sel.groupby(pd.Grouper(key=col+'Time', freq=freq))\n",
    "    return df_gb\n",
    "\n",
    "def CreateStockData(df_ori, freq='1s'):\n",
    "    df = df_ori.copy()\n",
    "    df_gb = groupByTime(df, 'CurrentPrice', freq=freq)\n",
    "    df_vol = groupByTime(df, 'TradingVolume', freq=freq).max()\n",
    "    df_vol = df_vol.diff()\n",
    "    df_stock = pd.concat([df_gb.first(), df_gb.max(), df_gb.min(), df_gb.last(), df_vol], axis=1)\n",
    "    df_stock = df_stock.set_axis(['Open', 'High', 'Low', 'Close', 'Volume'], axis='columns')\n",
    "    return df_stock\n",
    "\n",
    "def mpfplot(data, **kwargs):\n",
    "    style = mpf.make_mpf_style(base_mpf_style='nightclouds', rc={\"font.family\":'MS Gothic'})\n",
    "    return mpf.plot(data, figsize=(8, 6), style=style, returnfig=True, **kwargs)\n",
    "\n",
    "# when parse `ax`, must not parse figsize and returning=True\n",
    "def mpfplotLive(data, **kwargs):\n",
    "    style = mpf.make_mpf_style(base_mpf_style='nightclouds', rc={\"font.family\":'MS Gothic'})\n",
    "    return mpf.plot(data, style=style, **kwargs)"
   ]
  },
  {
   "cell_type": "markdown",
   "id": "e4cc80de-9f7e-4b4d-a6a7-79247d5cabf6",
   "metadata": {},
   "source": [
    "## 1. Connect to DB"
   ]
  },
  {
   "cell_type": "code",
   "execution_count": 6,
   "id": "01b4c813-f529-4dbb-b606-eecfe870fcc6",
   "metadata": {},
   "outputs": [],
   "source": [
    "con = sqlite3.connect(DB_PATH)\n",
    "cur = con.cursor()"
   ]
  },
  {
   "cell_type": "markdown",
   "id": "8cacb3b8-0589-4959-8d9a-9c9510f82329",
   "metadata": {},
   "source": [
    "## 2. Realtime monitor today data"
   ]
  },
  {
   "cell_type": "code",
   "execution_count": 45,
   "id": "8b0e278f-4127-4388-a033-8501b2286fc6",
   "metadata": {},
   "outputs": [
    {
     "data": {
      "application/vnd.jupyter.widget-view+json": {
       "model_id": "4514300c1d8d4de4867afd95077c25ad",
       "version_major": 2,
       "version_minor": 0
      },
      "text/plain": [
       "Canvas(toolbar=Toolbar(toolitems=[('Home', 'Reset original view', 'home', 'home'), ('Back', 'Back to previous …"
      ]
     },
     "metadata": {},
     "output_type": "display_data"
    }
   ],
   "source": [
    "today_date = datetime.date(datetime.now())\n",
    "today_market_open_datetime_str = str(today_date) + ' 09:00:00'\n",
    "is_first_data = True\n",
    "last_data_datetime = ''\n",
    "df_raw_keep = pd.DataFrame()\n",
    "\n",
    "while True:\n",
    "    if is_first_data:\n",
    "        df_raw = pd.read_sql(\n",
    "            \"SELECT * FROM test_data WHERE CurrentPriceTime >= datetime('%s')\"\n",
    "            % today_market_open_datetime_str, con)\n",
    "        df_raw_keep = pd.concat([df_raw_keep, df_raw])\n",
    "        df = CreateStockData(df_raw_keep, '1s')\n",
    "        fig, ax = mpfplot(df, type='candle')\n",
    "        fig.canvas.draw()\n",
    "        is_first_data = False\n",
    "        \n",
    "    else:\n",
    "        df_raw = pd.read_sql(\n",
    "            \"SELECT * FROM test_data WHERE CurrentPriceTime >= datetime('%s')\"\n",
    "            % last_data_datetime, con)\n",
    "        df_raw_keep = pd.concat([df_raw_keep, df_raw])\n",
    "        df = CreateStockData(df_raw_keep, '1s')\n",
    "        ax[0].clear()\n",
    "        mpfplotLive(df, type='candle', ax=ax[0])\n",
    "        fig.canvas.draw()\n",
    "        \n",
    "    last_data_datetime = df_raw_keep.iloc[-1].CurrentPriceTime\n",
    "    \n",
    "    time.sleep(2)"
   ]
  }
 ],
 "metadata": {
  "kernelspec": {
   "display_name": "Python 3 (ipykernel)",
   "language": "python",
   "name": "python3"
  },
  "language_info": {
   "codemirror_mode": {
    "name": "ipython",
    "version": 3
   },
   "file_extension": ".py",
   "mimetype": "text/x-python",
   "name": "python",
   "nbconvert_exporter": "python",
   "pygments_lexer": "ipython3",
   "version": "3.9.7"
  }
 },
 "nbformat": 4,
 "nbformat_minor": 5
}
