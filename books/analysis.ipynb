{
 "cells": [
  {
   "cell_type": "markdown",
   "id": "ed98535f-015d-46ff-adb6-53d58b8937c0",
   "metadata": {},
   "source": [
    "# Analysis Market Price using mplfinace"
   ]
  },
  {
   "cell_type": "markdown",
   "id": "78ed0fc8-55bc-4112-9610-6133f9a79735",
   "metadata": {},
   "source": [
    "## 0. Preparation"
   ]
  },
  {
   "cell_type": "markdown",
   "id": "2a991bfc-7c24-4463-adab-53fc110fcc47",
   "metadata": {},
   "source": [
    "### 0.1 Imports"
   ]
  },
  {
   "cell_type": "code",
   "execution_count": 11,
   "id": "c63e9135-b7c0-4d4b-a9a8-bed2e28fa900",
   "metadata": {},
   "outputs": [],
   "source": [
    "%matplotlib widget\n",
    "import urllib.request\n",
    "import json, time\n",
    "import mplfinance as mpf\n",
    "import matplotlib.pyplot as plt\n",
    "plt.style.use('dark_background')\n",
    "plt.rcParams['figure.figsize'] = (14, 8)\n",
    "#plt.rc('font', family='Cascadia Code PL')\n",
    "import numpy as np\n",
    "import pandas as pd\n",
    "pd.options.plotting.backend = 'matplotlib'\n",
    "pd.set_option('display.max_columns', 0)\n",
    "import pprint\n",
    "pp = pprint.PrettyPrinter(indent=4)\n",
    "\n",
    "BASEURL = 'http://localhost:18080/kabusapi/'\n",
    "BASEURL_TEST = 'http://localhost:18081/kabusapi/'"
   ]
  },
  {
   "cell_type": "markdown",
   "id": "f2722e9a-27e1-4934-be22-dabdead63591",
   "metadata": {},
   "source": [
    "### 0.2 Functions"
   ]
  },
  {
   "cell_type": "markdown",
   "id": "dd53fe08-640c-4ba6-a002-88301a3d35f7",
   "metadata": {},
   "source": [
    "#### Groupby Time"
   ]
  },
  {
   "cell_type": "code",
   "execution_count": 2,
   "id": "b614e8ab-77e6-4173-ba2b-70dd8273bfe1",
   "metadata": {},
   "outputs": [],
   "source": [
    "# freq = 1s, 1min, 5min, 1h, ...\n",
    "def groupByTime(df, col, freq='1s'):\n",
    "    df[col+'Time'] = pd.to_datetime(df[col+'Time'])\n",
    "    df_sel = data.loc[:, [col+'Time', col]]\n",
    "    df_gb = df_sel.groupby(pd.Grouper(key=col+'Time', freq=freq))\n",
    "    return df_gb"
   ]
  },
  {
   "cell_type": "markdown",
   "id": "02a45e58-3a44-4113-96f7-e47c7f019a3c",
   "metadata": {},
   "source": [
    "#### Create Stock data"
   ]
  },
  {
   "cell_type": "code",
   "execution_count": 3,
   "id": "56bfa4f7-a178-4261-9d7d-b32d1d81eca1",
   "metadata": {},
   "outputs": [],
   "source": [
    "def CreateStockData(df, col, freq='1s'):\n",
    "    df_gb = groupByTime(df, col, freq=freq)\n",
    "    df_vol = groupByTime(df, 'TradingVolume', freq=freq).max()\n",
    "    df_vol = df_vol.diff()\n",
    "    df_stock = pd.concat([df_gb.first(), df_gb.max(), df_gb.min(), df_gb.last(), df_vol], axis=1)\n",
    "    df_stock = df_stock.set_axis(['Open', 'High', 'Low', 'Close', 'Volume'], axis='columns')\n",
    "    return df_stock"
   ]
  },
  {
   "cell_type": "markdown",
   "id": "a0603965-81ae-4420-b688-323fc57db43b",
   "metadata": {},
   "source": [
    "#### mpfplot"
   ]
  },
  {
   "cell_type": "code",
   "execution_count": 4,
   "id": "9e701969-f100-44e0-8da2-62a0a56e19cf",
   "metadata": {},
   "outputs": [],
   "source": [
    "def mpfplot(data, **kwargs):\n",
    "    style = mpf.make_mpf_style(base_mpf_style='nightclouds', rc={\"font.family\":'MS Gothic'})\n",
    "    return mpf.plot(data, figsize=(12, 6), style=style, returnfig=True, **kwargs)"
   ]
  },
  {
   "cell_type": "markdown",
   "id": "7cf2cd37-ef04-4a38-8029-9e15e5a1050d",
   "metadata": {},
   "source": [
    "## 1. Data"
   ]
  },
  {
   "cell_type": "code",
   "execution_count": 5,
   "id": "c12b3925-a069-477d-a0b3-03fd4164fd7a",
   "metadata": {},
   "outputs": [
    {
     "name": "stdout",
     "output_type": "stream",
     "text": [
      "data.shape:,  (28665, 82)\n"
     ]
    },
    {
     "data": {
      "text/html": [
       "<div>\n",
       "<style scoped>\n",
       "    .dataframe tbody tr th:only-of-type {\n",
       "        vertical-align: middle;\n",
       "    }\n",
       "\n",
       "    .dataframe tbody tr th {\n",
       "        vertical-align: top;\n",
       "    }\n",
       "\n",
       "    .dataframe thead th {\n",
       "        text-align: right;\n",
       "    }\n",
       "</style>\n",
       "<table border=\"1\" class=\"dataframe\">\n",
       "  <thead>\n",
       "    <tr style=\"text-align: right;\">\n",
       "      <th></th>\n",
       "      <th>Unnamed: 0</th>\n",
       "      <th>OverSellQty</th>\n",
       "      <th>UnderBuyQty</th>\n",
       "      <th>TotalMarketValue</th>\n",
       "      <th>MarketOrderSellQty</th>\n",
       "      <th>MarketOrderBuyQty</th>\n",
       "      <th>BidTime</th>\n",
       "      <th>AskTime</th>\n",
       "      <th>Exchange</th>\n",
       "      <th>ExchangeName</th>\n",
       "      <th>TradingVolume</th>\n",
       "      <th>TradingVolumeTime</th>\n",
       "      <th>VWAP</th>\n",
       "      <th>TradingValue</th>\n",
       "      <th>BidQty</th>\n",
       "      <th>BidPrice</th>\n",
       "      <th>BidSign</th>\n",
       "      <th>AskQty</th>\n",
       "      <th>AskPrice</th>\n",
       "      <th>AskSign</th>\n",
       "      <th>Symbol</th>\n",
       "      <th>SymbolName</th>\n",
       "      <th>CurrentPrice</th>\n",
       "      <th>CurrentPriceTime</th>\n",
       "      <th>CurrentPriceChangeStatus</th>\n",
       "      <th>CurrentPriceStatus</th>\n",
       "      <th>CalcPrice</th>\n",
       "      <th>PreviousClose</th>\n",
       "      <th>PreviousCloseTime</th>\n",
       "      <th>ChangePreviousClose</th>\n",
       "      <th>ChangePreviousClosePer</th>\n",
       "      <th>OpeningPrice</th>\n",
       "      <th>OpeningPriceTime</th>\n",
       "      <th>HighPrice</th>\n",
       "      <th>HighPriceTime</th>\n",
       "      <th>LowPrice</th>\n",
       "      <th>LowPriceTime</th>\n",
       "      <th>SecurityType</th>\n",
       "      <th>Buy1_Sign</th>\n",
       "      <th>Buy1_Time</th>\n",
       "      <th>Buy1_Price</th>\n",
       "      <th>Buy1_Qty</th>\n",
       "      <th>Buy2_Price</th>\n",
       "      <th>Buy2_Qty</th>\n",
       "      <th>Buy3_Price</th>\n",
       "      <th>Buy3_Qty</th>\n",
       "      <th>Buy4_Price</th>\n",
       "      <th>Buy4_Qty</th>\n",
       "      <th>Buy5_Price</th>\n",
       "      <th>Buy5_Qty</th>\n",
       "      <th>Buy6_Price</th>\n",
       "      <th>Buy6_Qty</th>\n",
       "      <th>Buy7_Price</th>\n",
       "      <th>Buy7_Qty</th>\n",
       "      <th>Buy8_Price</th>\n",
       "      <th>Buy8_Qty</th>\n",
       "      <th>Buy9_Price</th>\n",
       "      <th>Buy9_Qty</th>\n",
       "      <th>Buy10_Price</th>\n",
       "      <th>Buy10_Qty</th>\n",
       "      <th>Sell1_Sign</th>\n",
       "      <th>Sell1_Time</th>\n",
       "      <th>Sell1_Price</th>\n",
       "      <th>Sell1_Qty</th>\n",
       "      <th>Sell2_Price</th>\n",
       "      <th>Sell2_Qty</th>\n",
       "      <th>Sell3_Price</th>\n",
       "      <th>Sell3_Qty</th>\n",
       "      <th>Sell4_Price</th>\n",
       "      <th>Sell4_Qty</th>\n",
       "      <th>Sell5_Price</th>\n",
       "      <th>Sell5_Qty</th>\n",
       "      <th>Sell6_Price</th>\n",
       "      <th>Sell6_Qty</th>\n",
       "      <th>Sell7_Price</th>\n",
       "      <th>Sell7_Qty</th>\n",
       "      <th>Sell8_Price</th>\n",
       "      <th>Sell8_Qty</th>\n",
       "      <th>Sell9_Price</th>\n",
       "      <th>Sell9_Qty</th>\n",
       "      <th>Sell10_Price</th>\n",
       "      <th>Sell10_Qty</th>\n",
       "    </tr>\n",
       "  </thead>\n",
       "  <tbody>\n",
       "    <tr>\n",
       "      <th>0</th>\n",
       "      <td>0</td>\n",
       "      <td>4565300.0</td>\n",
       "      <td>1662300.0</td>\n",
       "      <td>5.681751e+12</td>\n",
       "      <td>0.0</td>\n",
       "      <td>0.0</td>\n",
       "      <td>2021-09-17T09:31:48+09:00</td>\n",
       "      <td>2021-09-17T09:31:48+09:00</td>\n",
       "      <td>1</td>\n",
       "      <td>東証１部</td>\n",
       "      <td>3088300.0</td>\n",
       "      <td>2021-09-17T09:31:47+09:00</td>\n",
       "      <td>743.2365</td>\n",
       "      <td>2.295337e+09</td>\n",
       "      <td>1100.0</td>\n",
       "      <td>742.4</td>\n",
       "      <td>101</td>\n",
       "      <td>2200.0</td>\n",
       "      <td>742.1</td>\n",
       "      <td>101</td>\n",
       "      <td>4689</td>\n",
       "      <td>Ｚホールディングス</td>\n",
       "      <td>742.1</td>\n",
       "      <td>2021-09-17T09:31:47+09:00</td>\n",
       "      <td>58</td>\n",
       "      <td>1</td>\n",
       "      <td>742.1</td>\n",
       "      <td>735.7</td>\n",
       "      <td>2021-09-16T00:00:00+09:00</td>\n",
       "      <td>6.4</td>\n",
       "      <td>0.87</td>\n",
       "      <td>742.3</td>\n",
       "      <td>2021-09-17T09:00:00+09:00</td>\n",
       "      <td>746.0</td>\n",
       "      <td>2021-09-17T09:10:25+09:00</td>\n",
       "      <td>740.9</td>\n",
       "      <td>2021-09-17T09:18:42+09:00</td>\n",
       "      <td>1</td>\n",
       "      <td>101</td>\n",
       "      <td>2021-09-17T09:31:48+09:00</td>\n",
       "      <td>742.1</td>\n",
       "      <td>2200.0</td>\n",
       "      <td>742.0</td>\n",
       "      <td>800.0</td>\n",
       "      <td>741.9</td>\n",
       "      <td>3300.0</td>\n",
       "      <td>741.8</td>\n",
       "      <td>3600.0</td>\n",
       "      <td>741.7</td>\n",
       "      <td>5800.0</td>\n",
       "      <td>741.6</td>\n",
       "      <td>3400.0</td>\n",
       "      <td>741.5</td>\n",
       "      <td>4700.0</td>\n",
       "      <td>741.4</td>\n",
       "      <td>16400.0</td>\n",
       "      <td>741.3</td>\n",
       "      <td>4700.0</td>\n",
       "      <td>741.2</td>\n",
       "      <td>6100.0</td>\n",
       "      <td>101</td>\n",
       "      <td>2021-09-17T09:31:48+09:00</td>\n",
       "      <td>742.4</td>\n",
       "      <td>1100.0</td>\n",
       "      <td>742.5</td>\n",
       "      <td>2300.0</td>\n",
       "      <td>742.6</td>\n",
       "      <td>5100.0</td>\n",
       "      <td>742.7</td>\n",
       "      <td>4900.0</td>\n",
       "      <td>742.8</td>\n",
       "      <td>5500.0</td>\n",
       "      <td>742.9</td>\n",
       "      <td>9100.0</td>\n",
       "      <td>743.0</td>\n",
       "      <td>40800.0</td>\n",
       "      <td>743.1</td>\n",
       "      <td>6100.0</td>\n",
       "      <td>743.2</td>\n",
       "      <td>6600.0</td>\n",
       "      <td>743.3</td>\n",
       "      <td>4500.0</td>\n",
       "    </tr>\n",
       "    <tr>\n",
       "      <th>1</th>\n",
       "      <td>0</td>\n",
       "      <td>4565900.0</td>\n",
       "      <td>1662300.0</td>\n",
       "      <td>5.681751e+12</td>\n",
       "      <td>0.0</td>\n",
       "      <td>0.0</td>\n",
       "      <td>2021-09-17T09:31:49+09:00</td>\n",
       "      <td>2021-09-17T09:31:49+09:00</td>\n",
       "      <td>1</td>\n",
       "      <td>東証１部</td>\n",
       "      <td>3089900.0</td>\n",
       "      <td>2021-09-17T09:31:49+09:00</td>\n",
       "      <td>743.2359</td>\n",
       "      <td>2.296525e+09</td>\n",
       "      <td>1100.0</td>\n",
       "      <td>742.4</td>\n",
       "      <td>101</td>\n",
       "      <td>2200.0</td>\n",
       "      <td>742.1</td>\n",
       "      <td>101</td>\n",
       "      <td>4689</td>\n",
       "      <td>Ｚホールディングス</td>\n",
       "      <td>742.1</td>\n",
       "      <td>2021-09-17T09:31:49+09:00</td>\n",
       "      <td>58</td>\n",
       "      <td>1</td>\n",
       "      <td>742.1</td>\n",
       "      <td>735.7</td>\n",
       "      <td>2021-09-16T00:00:00+09:00</td>\n",
       "      <td>6.4</td>\n",
       "      <td>0.87</td>\n",
       "      <td>742.3</td>\n",
       "      <td>2021-09-17T09:00:00+09:00</td>\n",
       "      <td>746.0</td>\n",
       "      <td>2021-09-17T09:10:25+09:00</td>\n",
       "      <td>740.9</td>\n",
       "      <td>2021-09-17T09:18:42+09:00</td>\n",
       "      <td>1</td>\n",
       "      <td>101</td>\n",
       "      <td>2021-09-17T09:31:49+09:00</td>\n",
       "      <td>742.1</td>\n",
       "      <td>2200.0</td>\n",
       "      <td>742.0</td>\n",
       "      <td>700.0</td>\n",
       "      <td>741.9</td>\n",
       "      <td>3300.0</td>\n",
       "      <td>741.8</td>\n",
       "      <td>3600.0</td>\n",
       "      <td>741.7</td>\n",
       "      <td>5800.0</td>\n",
       "      <td>741.6</td>\n",
       "      <td>3400.0</td>\n",
       "      <td>741.5</td>\n",
       "      <td>4700.0</td>\n",
       "      <td>741.4</td>\n",
       "      <td>16400.0</td>\n",
       "      <td>741.3</td>\n",
       "      <td>4700.0</td>\n",
       "      <td>741.2</td>\n",
       "      <td>6100.0</td>\n",
       "      <td>101</td>\n",
       "      <td>2021-09-17T09:31:49+09:00</td>\n",
       "      <td>742.4</td>\n",
       "      <td>1100.0</td>\n",
       "      <td>742.5</td>\n",
       "      <td>2300.0</td>\n",
       "      <td>742.6</td>\n",
       "      <td>5100.0</td>\n",
       "      <td>742.7</td>\n",
       "      <td>4900.0</td>\n",
       "      <td>742.8</td>\n",
       "      <td>5500.0</td>\n",
       "      <td>742.9</td>\n",
       "      <td>9100.0</td>\n",
       "      <td>743.0</td>\n",
       "      <td>40800.0</td>\n",
       "      <td>743.1</td>\n",
       "      <td>6100.0</td>\n",
       "      <td>743.2</td>\n",
       "      <td>6600.0</td>\n",
       "      <td>743.3</td>\n",
       "      <td>4500.0</td>\n",
       "    </tr>\n",
       "    <tr>\n",
       "      <th>2</th>\n",
       "      <td>0</td>\n",
       "      <td>4577000.0</td>\n",
       "      <td>1659500.0</td>\n",
       "      <td>5.681751e+12</td>\n",
       "      <td>0.0</td>\n",
       "      <td>0.0</td>\n",
       "      <td>2021-09-17T09:31:49+09:00</td>\n",
       "      <td>2021-09-17T09:31:49+09:00</td>\n",
       "      <td>1</td>\n",
       "      <td>東証１部</td>\n",
       "      <td>3089900.0</td>\n",
       "      <td>2021-09-17T09:31:49+09:00</td>\n",
       "      <td>743.2359</td>\n",
       "      <td>2.296525e+09</td>\n",
       "      <td>100.0</td>\n",
       "      <td>742.2</td>\n",
       "      <td>101</td>\n",
       "      <td>600.0</td>\n",
       "      <td>742.1</td>\n",
       "      <td>101</td>\n",
       "      <td>4689</td>\n",
       "      <td>Ｚホールディングス</td>\n",
       "      <td>742.1</td>\n",
       "      <td>2021-09-17T09:31:49+09:00</td>\n",
       "      <td>58</td>\n",
       "      <td>1</td>\n",
       "      <td>742.1</td>\n",
       "      <td>735.7</td>\n",
       "      <td>2021-09-16T00:00:00+09:00</td>\n",
       "      <td>6.4</td>\n",
       "      <td>0.87</td>\n",
       "      <td>742.3</td>\n",
       "      <td>2021-09-17T09:00:00+09:00</td>\n",
       "      <td>746.0</td>\n",
       "      <td>2021-09-17T09:10:25+09:00</td>\n",
       "      <td>740.9</td>\n",
       "      <td>2021-09-17T09:18:42+09:00</td>\n",
       "      <td>1</td>\n",
       "      <td>101</td>\n",
       "      <td>2021-09-17T09:31:49+09:00</td>\n",
       "      <td>742.1</td>\n",
       "      <td>600.0</td>\n",
       "      <td>742.0</td>\n",
       "      <td>700.0</td>\n",
       "      <td>741.9</td>\n",
       "      <td>700.0</td>\n",
       "      <td>741.8</td>\n",
       "      <td>2300.0</td>\n",
       "      <td>741.7</td>\n",
       "      <td>4100.0</td>\n",
       "      <td>741.6</td>\n",
       "      <td>2100.0</td>\n",
       "      <td>741.5</td>\n",
       "      <td>4700.0</td>\n",
       "      <td>741.4</td>\n",
       "      <td>16400.0</td>\n",
       "      <td>741.3</td>\n",
       "      <td>4700.0</td>\n",
       "      <td>741.2</td>\n",
       "      <td>6100.0</td>\n",
       "      <td>101</td>\n",
       "      <td>2021-09-17T09:31:49+09:00</td>\n",
       "      <td>742.2</td>\n",
       "      <td>100.0</td>\n",
       "      <td>742.3</td>\n",
       "      <td>2100.0</td>\n",
       "      <td>742.4</td>\n",
       "      <td>1500.0</td>\n",
       "      <td>742.5</td>\n",
       "      <td>2300.0</td>\n",
       "      <td>742.6</td>\n",
       "      <td>6300.0</td>\n",
       "      <td>742.7</td>\n",
       "      <td>5400.0</td>\n",
       "      <td>742.8</td>\n",
       "      <td>5500.0</td>\n",
       "      <td>742.9</td>\n",
       "      <td>9100.0</td>\n",
       "      <td>743.0</td>\n",
       "      <td>40800.0</td>\n",
       "      <td>743.1</td>\n",
       "      <td>6100.0</td>\n",
       "    </tr>\n",
       "    <tr>\n",
       "      <th>3</th>\n",
       "      <td>0</td>\n",
       "      <td>4577000.0</td>\n",
       "      <td>1659500.0</td>\n",
       "      <td>5.681751e+12</td>\n",
       "      <td>0.0</td>\n",
       "      <td>0.0</td>\n",
       "      <td>2021-09-17T09:31:49+09:00</td>\n",
       "      <td>2021-09-17T09:31:49+09:00</td>\n",
       "      <td>1</td>\n",
       "      <td>東証１部</td>\n",
       "      <td>3090200.0</td>\n",
       "      <td>2021-09-17T09:31:50+09:00</td>\n",
       "      <td>743.2358</td>\n",
       "      <td>2.296747e+09</td>\n",
       "      <td>100.0</td>\n",
       "      <td>742.2</td>\n",
       "      <td>101</td>\n",
       "      <td>600.0</td>\n",
       "      <td>742.1</td>\n",
       "      <td>101</td>\n",
       "      <td>4689</td>\n",
       "      <td>Ｚホールディングス</td>\n",
       "      <td>742.1</td>\n",
       "      <td>2021-09-17T09:31:50+09:00</td>\n",
       "      <td>58</td>\n",
       "      <td>1</td>\n",
       "      <td>742.1</td>\n",
       "      <td>735.7</td>\n",
       "      <td>2021-09-16T00:00:00+09:00</td>\n",
       "      <td>6.4</td>\n",
       "      <td>0.87</td>\n",
       "      <td>742.3</td>\n",
       "      <td>2021-09-17T09:00:00+09:00</td>\n",
       "      <td>746.0</td>\n",
       "      <td>2021-09-17T09:10:25+09:00</td>\n",
       "      <td>740.9</td>\n",
       "      <td>2021-09-17T09:18:42+09:00</td>\n",
       "      <td>1</td>\n",
       "      <td>101</td>\n",
       "      <td>2021-09-17T09:31:49+09:00</td>\n",
       "      <td>742.1</td>\n",
       "      <td>600.0</td>\n",
       "      <td>742.0</td>\n",
       "      <td>700.0</td>\n",
       "      <td>741.9</td>\n",
       "      <td>700.0</td>\n",
       "      <td>741.8</td>\n",
       "      <td>2300.0</td>\n",
       "      <td>741.7</td>\n",
       "      <td>4100.0</td>\n",
       "      <td>741.6</td>\n",
       "      <td>2100.0</td>\n",
       "      <td>741.5</td>\n",
       "      <td>4700.0</td>\n",
       "      <td>741.4</td>\n",
       "      <td>16400.0</td>\n",
       "      <td>741.3</td>\n",
       "      <td>4700.0</td>\n",
       "      <td>741.2</td>\n",
       "      <td>6100.0</td>\n",
       "      <td>101</td>\n",
       "      <td>2021-09-17T09:31:49+09:00</td>\n",
       "      <td>742.2</td>\n",
       "      <td>100.0</td>\n",
       "      <td>742.3</td>\n",
       "      <td>2100.0</td>\n",
       "      <td>742.4</td>\n",
       "      <td>1500.0</td>\n",
       "      <td>742.5</td>\n",
       "      <td>2300.0</td>\n",
       "      <td>742.6</td>\n",
       "      <td>6300.0</td>\n",
       "      <td>742.7</td>\n",
       "      <td>5400.0</td>\n",
       "      <td>742.8</td>\n",
       "      <td>5500.0</td>\n",
       "      <td>742.9</td>\n",
       "      <td>9100.0</td>\n",
       "      <td>743.0</td>\n",
       "      <td>40800.0</td>\n",
       "      <td>743.1</td>\n",
       "      <td>6100.0</td>\n",
       "    </tr>\n",
       "    <tr>\n",
       "      <th>4</th>\n",
       "      <td>0</td>\n",
       "      <td>4576300.0</td>\n",
       "      <td>1659700.0</td>\n",
       "      <td>5.681751e+12</td>\n",
       "      <td>0.0</td>\n",
       "      <td>0.0</td>\n",
       "      <td>2021-09-17T09:31:50+09:00</td>\n",
       "      <td>2021-09-17T09:31:50+09:00</td>\n",
       "      <td>1</td>\n",
       "      <td>東証１部</td>\n",
       "      <td>3090200.0</td>\n",
       "      <td>2021-09-17T09:31:50+09:00</td>\n",
       "      <td>743.2358</td>\n",
       "      <td>2.296747e+09</td>\n",
       "      <td>100.0</td>\n",
       "      <td>742.2</td>\n",
       "      <td>101</td>\n",
       "      <td>200.0</td>\n",
       "      <td>742.1</td>\n",
       "      <td>101</td>\n",
       "      <td>4689</td>\n",
       "      <td>Ｚホールディングス</td>\n",
       "      <td>742.1</td>\n",
       "      <td>2021-09-17T09:31:50+09:00</td>\n",
       "      <td>58</td>\n",
       "      <td>1</td>\n",
       "      <td>742.1</td>\n",
       "      <td>735.7</td>\n",
       "      <td>2021-09-16T00:00:00+09:00</td>\n",
       "      <td>6.4</td>\n",
       "      <td>0.87</td>\n",
       "      <td>742.3</td>\n",
       "      <td>2021-09-17T09:00:00+09:00</td>\n",
       "      <td>746.0</td>\n",
       "      <td>2021-09-17T09:10:25+09:00</td>\n",
       "      <td>740.9</td>\n",
       "      <td>2021-09-17T09:18:42+09:00</td>\n",
       "      <td>1</td>\n",
       "      <td>101</td>\n",
       "      <td>2021-09-17T09:31:50+09:00</td>\n",
       "      <td>742.1</td>\n",
       "      <td>200.0</td>\n",
       "      <td>742.0</td>\n",
       "      <td>700.0</td>\n",
       "      <td>741.9</td>\n",
       "      <td>700.0</td>\n",
       "      <td>741.8</td>\n",
       "      <td>2100.0</td>\n",
       "      <td>741.7</td>\n",
       "      <td>4100.0</td>\n",
       "      <td>741.6</td>\n",
       "      <td>2100.0</td>\n",
       "      <td>741.5</td>\n",
       "      <td>4700.0</td>\n",
       "      <td>741.4</td>\n",
       "      <td>16400.0</td>\n",
       "      <td>741.3</td>\n",
       "      <td>4700.0</td>\n",
       "      <td>741.2</td>\n",
       "      <td>6100.0</td>\n",
       "      <td>101</td>\n",
       "      <td>2021-09-17T09:31:50+09:00</td>\n",
       "      <td>742.2</td>\n",
       "      <td>100.0</td>\n",
       "      <td>742.3</td>\n",
       "      <td>2300.0</td>\n",
       "      <td>742.4</td>\n",
       "      <td>3000.0</td>\n",
       "      <td>742.5</td>\n",
       "      <td>2300.0</td>\n",
       "      <td>742.6</td>\n",
       "      <td>6300.0</td>\n",
       "      <td>742.7</td>\n",
       "      <td>5400.0</td>\n",
       "      <td>742.8</td>\n",
       "      <td>5500.0</td>\n",
       "      <td>742.9</td>\n",
       "      <td>9100.0</td>\n",
       "      <td>743.0</td>\n",
       "      <td>40800.0</td>\n",
       "      <td>743.1</td>\n",
       "      <td>6100.0</td>\n",
       "    </tr>\n",
       "  </tbody>\n",
       "</table>\n",
       "</div>"
      ],
      "text/plain": [
       "   Unnamed: 0  OverSellQty  UnderBuyQty  TotalMarketValue  ...  Sell9_Price  Sell9_Qty Sell10_Price Sell10_Qty\n",
       "0           0    4565300.0    1662300.0      5.681751e+12  ...        743.2     6600.0        743.3     4500.0\n",
       "1           0    4565900.0    1662300.0      5.681751e+12  ...        743.2     6600.0        743.3     4500.0\n",
       "2           0    4577000.0    1659500.0      5.681751e+12  ...        743.0    40800.0        743.1     6100.0\n",
       "3           0    4577000.0    1659500.0      5.681751e+12  ...        743.0    40800.0        743.1     6100.0\n",
       "4           0    4576300.0    1659700.0      5.681751e+12  ...        743.0    40800.0        743.1     6100.0\n",
       "\n",
       "[5 rows x 82 columns]"
      ]
     },
     "execution_count": 5,
     "metadata": {},
     "output_type": "execute_result"
    }
   ],
   "source": [
    "data = pd.read_csv('push_data.csv')\n",
    "print('data.shape:, ', data.shape)\n",
    "data.head()"
   ]
  },
  {
   "cell_type": "markdown",
   "id": "bf0f707a-b931-47cd-9e4a-6dcd8a41a4b0",
   "metadata": {},
   "source": [
    "## 2. Plots"
   ]
  },
  {
   "cell_type": "markdown",
   "id": "b9a15b10-a00c-4595-a383-69450b9e6b8f",
   "metadata": {},
   "source": [
    "### line plot"
   ]
  },
  {
   "cell_type": "code",
   "execution_count": 6,
   "id": "31fcd025-186a-4e64-8f22-516a52dddd3c",
   "metadata": {},
   "outputs": [
    {
     "data": {
      "application/vnd.jupyter.widget-view+json": {
       "model_id": "e3dfbb3997d144a9940f1ddd5d0397f2",
       "version_major": 2,
       "version_minor": 0
      },
      "text/plain": [
       "Canvas(toolbar=Toolbar(toolitems=[('Home', 'Reset original view', 'home', 'home'), ('Back', 'Back to previous …"
      ]
     },
     "metadata": {},
     "output_type": "display_data"
    }
   ],
   "source": [
    "df = CreateStockData(data, 'CurrentPrice', '1min')\n",
    "fig, ax = mpfplot(df, type='line', title=data.SymbolName[0])"
   ]
  },
  {
   "cell_type": "markdown",
   "id": "f45e1269-606d-4ef3-8570-56621b7fa944",
   "metadata": {
    "tags": []
   },
   "source": [
    "### Candle plot"
   ]
  },
  {
   "cell_type": "code",
   "execution_count": 7,
   "id": "ce7b1e70-e589-47ab-980b-487a88608541",
   "metadata": {},
   "outputs": [
    {
     "data": {
      "application/vnd.jupyter.widget-view+json": {
       "model_id": "b6b83abfd6364e83bca4f43c28a67229",
       "version_major": 2,
       "version_minor": 0
      },
      "text/plain": [
       "Canvas(toolbar=Toolbar(toolitems=[('Home', 'Reset original view', 'home', 'home'), ('Back', 'Back to previous …"
      ]
     },
     "metadata": {},
     "output_type": "display_data"
    },
    {
     "data": {
      "text/plain": [
       "(<Figure size 1200x600 with 4 Axes>,\n",
       " [<Axes:ylabel='Price'>, <Axes:>, <Axes:ylabel='Volume  $10^{6}$'>, <Axes:>])"
      ]
     },
     "execution_count": 7,
     "metadata": {},
     "output_type": "execute_result"
    }
   ],
   "source": [
    "cp_5m = CreateStockData(data, 'CurrentPrice', '5min')\n",
    "mpfplot(cp_5m, type='candle', mav=(3, 7), title=data.SymbolName[0], volume=True)"
   ]
  },
  {
   "cell_type": "markdown",
   "id": "7e3ed4b7-d2c1-4e41-8f4b-d9fcc1c90a38",
   "metadata": {},
   "source": [
    "### live plot\n",
    "live plot needs `%matplotlib widget`\n",
    "1. first create `fig` and `ax`\n",
    "2. parse `ax` to update the content\n",
    "3. use `fig.canvas.draw()` to force update"
   ]
  },
  {
   "cell_type": "code",
   "execution_count": 8,
   "id": "615ef49b-86bd-4b26-9215-d25f3cb6c661",
   "metadata": {},
   "outputs": [
    {
     "data": {
      "application/vnd.jupyter.widget-view+json": {
       "model_id": "63332e8609e440028da6c31da6367699",
       "version_major": 2,
       "version_minor": 0
      },
      "text/plain": [
       "Canvas(toolbar=Toolbar(toolitems=[('Home', 'Reset original view', 'home', 'home'), ('Back', 'Back to previous …"
      ]
     },
     "metadata": {},
     "output_type": "display_data"
    }
   ],
   "source": [
    "df = CreateStockData(data, 'CurrentPrice', '1min')\n",
    "fig, ax = mpfplot(df[0:5], type='candle')\n",
    "\n",
    "# when parse `ax`, must not parse figsize and returning=True\n",
    "def mpfplotLive(data, **kwargs):\n",
    "    style = mpf.make_mpf_style(base_mpf_style='nightclouds', rc={\"font.family\":'MS Gothic'})\n",
    "    return mpf.plot(data, style=style, **kwargs)\n",
    "\n",
    "for i in range(10):\n",
    "    ax[0].clear()\n",
    "    mpfplotLive(df[0:5+i], type='candle', ax=ax[0])\n",
    "    fig.canvas.draw()\n",
    "    #fig.canvas.flush_events()\n",
    "    time.sleep(1)"
   ]
  },
  {
   "cell_type": "markdown",
   "id": "30b18477-f865-4b6b-98c3-33b6a8b552ea",
   "metadata": {},
   "source": [
    "### Time based increasing"
   ]
  },
  {
   "cell_type": "code",
   "execution_count": 9,
   "id": "307e07ec-e243-4ff8-b068-ed182da5b5d6",
   "metadata": {},
   "outputs": [
    {
     "data": {
      "application/vnd.jupyter.widget-view+json": {
       "model_id": "fc1b3fdceb4b438c8abf9ad62aeb61b6",
       "version_major": 2,
       "version_minor": 0
      },
      "text/plain": [
       "Canvas(toolbar=Toolbar(toolitems=[('Home', 'Reset original view', 'home', 'home'), ('Back', 'Back to previous …"
      ]
     },
     "metadata": {},
     "output_type": "display_data"
    },
    {
     "data": {
      "text/plain": [
       "(<Figure size 1200x600 with 2 Axes>, [<Axes:ylabel='Price'>, <Axes:>])"
      ]
     },
     "execution_count": 9,
     "metadata": {},
     "output_type": "execute_result"
    }
   ],
   "source": [
    "cp_1min = CreateStockData(data, 'CurrentPrice', '1min')\n",
    "mpfplot(cp_1min[cp_1min > cp_1min.shift()], type='line', title=data.SymbolName[0])"
   ]
  },
  {
   "cell_type": "markdown",
   "id": "eb777168-a264-4edf-abff-68f2456fff67",
   "metadata": {},
   "source": [
    "### Diff plot"
   ]
  },
  {
   "cell_type": "code",
   "execution_count": 10,
   "id": "73cc4347-9609-4982-813a-5ca9604c56a4",
   "metadata": {},
   "outputs": [
    {
     "data": {
      "application/vnd.jupyter.widget-view+json": {
       "model_id": "80a1140e9ce2433b87c13bc3b55d6d74",
       "version_major": 2,
       "version_minor": 0
      },
      "text/plain": [
       "Canvas(toolbar=Toolbar(toolitems=[('Home', 'Reset original view', 'home', 'home'), ('Back', 'Back to previous …"
      ]
     },
     "metadata": {},
     "output_type": "display_data"
    },
    {
     "data": {
      "text/plain": [
       "(<Figure size 1200x600 with 2 Axes>, [<Axes:ylabel='Price'>, <Axes:>])"
      ]
     },
     "execution_count": 10,
     "metadata": {},
     "output_type": "execute_result"
    }
   ],
   "source": [
    "cp_1min = CreateStockData(data, 'CurrentPrice', '1min')\n",
    "mpfplot(cp_1min.diff(), type='line', title=data.SymbolName[0])"
   ]
  }
 ],
 "metadata": {
  "kernelspec": {
   "display_name": "Python 3 (ipykernel)",
   "language": "python",
   "name": "python3"
  },
  "language_info": {
   "codemirror_mode": {
    "name": "ipython",
    "version": 3
   },
   "file_extension": ".py",
   "mimetype": "text/x-python",
   "name": "python",
   "nbconvert_exporter": "python",
   "pygments_lexer": "ipython3",
   "version": "3.9.7"
  }
 },
 "nbformat": 4,
 "nbformat_minor": 5
}
